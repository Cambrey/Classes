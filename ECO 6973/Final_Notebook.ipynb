{
 "cells": [
  {
   "cell_type": "markdown",
   "metadata": {},
   "source": [
    "# Bank Failures Between 2000 and 2017"
   ]
  },
  {
   "cell_type": "markdown",
   "metadata": {},
   "source": [
    "## Importing Packages"
   ]
  },
  {
   "cell_type": "code",
   "execution_count": 3,
   "metadata": {
    "scrolled": true
   },
   "outputs": [],
   "source": [
    "# %matplotlib inline\n",
    "import numpy as np\n",
    "import pandas as pd \n",
    "import matplotlib.pyplot as plt\n",
    "import datetime\n",
    "import scipy.stats as stats\n",
    "import sklearn.linear_model as linear_model\n",
    "import bokeh\n",
    "import seaborn as sns\n",
    "import math\n",
    "import statistics\n",
    "from bokeh.models import ColumnDataSource, HoverTool, DatetimeTickFormatter, LogColorMapper\n",
    "from bokeh.palettes import Spectral5, Spectral6, Category20, Viridis256\n",
    "from bokeh.palettes import Viridis6 as palette\n",
    "from bokeh.transform import factor_cmap\n",
    "from bokeh.plotting import figure, show, output_file\n",
    "from bokeh.models.ranges import FactorRange\n",
    "from bokeh.core.properties import value\n",
    "from bokeh.sampledata.us_states import data as statesData"
   ]
  },
  {
   "cell_type": "markdown",
   "metadata": {},
   "source": [
    "## Loading and Transforming the Data"
   ]
  },
  {
   "cell_type": "code",
   "execution_count": 4,
   "metadata": {},
   "outputs": [],
   "source": [
    "df = pd.read_csv('F:/Python/Final/banklist.csv', encoding='iso-8859-1')\n",
    "df['Closing Date'] =  pd.to_datetime(df['Closing Date'], format='%d-%b-%y')\n",
    "df['Updated Date'] =  pd.to_datetime(df['Updated Date'], format='%d-%b-%y')\n",
    "df['Year'] = df['Closing Date'].astype(str).str[0:4]\n",
    "df['Year'] = df['Year'].astype(int)\n",
    "df['Acquired'] = (df['Acquiring Institution'] != \"No Acquierer\")"
   ]
  },
  {
   "cell_type": "markdown",
   "metadata": {},
   "source": [
    "## Bank Failures Over Time"
   ]
  },
  {
   "cell_type": "markdown",
   "metadata": {},
   "source": [
    "The following time series chart shows the number of bank failures over time. I have also included the median and mean as the recession data appears to be scewing the data. When we compare the number of failures per year to the median, it doesn't look like the number of bank failures is increasing over time. In fact, looking at a similar chart from FRED dating back to the 60s, our data does not look anomalous at all. Especially when economic climate is taken into account."
   ]
  },
  {
   "cell_type": "code",
   "execution_count": 11,
   "metadata": {},
   "outputs": [
    {
     "name": "stderr",
     "output_type": "stream",
     "text": [
      "ERROR:bokeh.core.validation.check:E-1001 (BAD_COLUMN_NAME): Glyph refers to nonexistent column name: color [renderer: GlyphRenderer(id='60279c47-ba50-4fdb-a29e-4cd3fcdf8913', ...)]\n"
     ]
    }
   ],
   "source": [
    "output_file(\"bank_failures_per_year.html\")\n",
    "\n",
    "source = pd.value_counts(df['Year'].values, sort=False)\n",
    "\n",
    "plot = figure(title=\"Bank Failures Over Time\", tools=['pan'])\n",
    "plot.xaxis.axis_label = 'Year'\n",
    "plot.yaxis.axis_label = 'Number of Bank Failures'\n",
    "\n",
    "circle = plot.circle(source.index, source.values, fill_color=\"white\", size=8)\n",
    "line1 = plot.line(source.index, source.values, line_width=2, color='navy', legend='Number of Bank Failures')\n",
    "line2 = plot.line(source.index, np.mean(source.values), line_width=2,  color='red', legend='Mean', line_dash='dashed')\n",
    "line3 = plot.line(source.index, np.median(source.values), line_width=2,  color='green', legend='Median', line_dash='dotted')\n",
    "\n",
    "hover1 = HoverTool(\n",
    "    tooltips=[\n",
    "        ( 'Year','$x{0}'),\n",
    "        ( 'Bank Failures','@y{0}'),\n",
    "    ], renderers=[circle],\n",
    ")\n",
    "\n",
    "hover2 = HoverTool(\n",
    "    tooltips=[\n",
    "        ( 'Mean','$y'),\n",
    "    ], renderers=[line2],\n",
    ")\n",
    "\n",
    "hover3 = HoverTool(\n",
    "    tooltips=[\n",
    "        ( 'Median','$y'),\n",
    "    ], renderers=[line3],\n",
    ")\n",
    "plot.add_tools(hover1)\n",
    "plot.add_tools(hover2)\n",
    "plot.add_tools(hover3)\n",
    "\n",
    "plot.legend.location = \"top_left\"\n",
    "show(plot)"
   ]
  },
  {
   "cell_type": "markdown",
   "metadata": {},
   "source": [
    "## Bank Acquisitions"
   ]
  },
  {
   "cell_type": "markdown",
   "metadata": {},
   "source": [
    "The distribution of acquisitions for each institution is depicted below in a bar graph. Below that is my failed attempt to create a segmented bar chart. I anticipate that the acquired banks per institution would be highly concentrated in certain states, as some states had higher failure rates (as we will see later)."
   ]
  },
  {
   "cell_type": "code",
   "execution_count": 7,
   "metadata": {
    "scrolled": true
   },
   "outputs": [
    {
     "data": {
      "text/plain": [
       "Text(0.5,1,'Number of Acquired Banks Per Institutions')"
      ]
     },
     "execution_count": 7,
     "metadata": {},
     "output_type": "execute_result"
    },
    {
     "data": {
      "image/png": "[encoded data removed]",
      "text/plain": [
       "<Figure size 432x288 with 1 Axes>"
      ]
     },
     "metadata": {},
     "output_type": "display_data"
    }
   ],
   "source": [
    "data = pd.value_counts(df['Acquiring Institution'].values, sort=True)[0:11]\n",
    "\n",
    "x2 = []\n",
    "for i in range(0, len(data)):\n",
    "    x2.append(data.index[i])\n",
    "y2 = []\n",
    "for i in range(0, len(data)):\n",
    "    y2.append(data.values[i])\n",
    "bar = sns.barplot(x2, y2, data=None, palette=\"muted\")\n",
    "bar.set_xticklabels(bar.get_xticklabels(), rotation=90)\n",
    "bar.set_xlabel('Acquiring Institutions (or No Acquierer as noted)')\n",
    "bar.set_ylabel('Number of Failed Banks Acquired')\n",
    "bar.set_title('Number of Acquired Banks Per Institution')"
   ]
  },
  {
   "cell_type": "code",
   "execution_count": null,
   "metadata": {},
   "outputs": [],
   "source": [
    "df1 = pd.DataFrame(\n",
    "    {'Acquiring Institution': x2,\n",
    "     'NumberofAcquisitions': y2\n",
    "    })\n",
    "\n",
    "\n",
    "df2 = pd.DataFrame(df.groupby(['Acquiring Institution', 'ST'])['ST'].count()).rename(columns={'ST':'AcquisitionsbyState'})\n",
    "df2 = df2.reset_index()\n",
    "\n",
    "df2.merge(df1, how ='left', on='Acquiring Institution')\n",
    "df2.columns = ['AcquiringInstitution', 'State','AcquisitionsbyState']\n",
    "\n",
    "\n",
    "output_file(\"stacked.html\")\n",
    "\n",
    "p = figure(x_range=df2['AcquiringInstitution'], plot_height=250, title=\"Fruit Counts by Year\",\n",
    "           toolbar_location=None, tools=\"\")\n",
    "\n",
    "p.vbar_stack(State, x='AcquiringInstitution', width=0.9, color=colors, source=df2,\n",
    "             legend=[value(x) for x in State])\n",
    "\n",
    "p.y_range.start = 0\n",
    "p.x_range.range_padding = 0.1\n",
    "p.xgrid.grid_line_color = None\n",
    "p.axis.minor_tick_line_color = None\n",
    "p.outline_line_color = None\n",
    "p.legend.location = \"top_left\"\n",
    "p.legend.orientation = \"horizontal\""
   ]
  },
  {
   "cell_type": "markdown",
   "metadata": {},
   "source": [
    "## Bank Failure and Month"
   ]
  },
  {
   "cell_type": "markdown",
   "metadata": {},
   "source": [
    "The following chart is a pie graph of bank failures by the closure month. Standard banking quarters are January, February, and March (Q1); April, May, and June (Q2); July, August, and September (Q3); and October, November, and December (Q4). We can see clearly from the graph that instances of closure are more prevalent in the first month of every quarter (i.e. January, April, July, October).\n"
   ]
  },
  {
   "cell_type": "code",
   "execution_count": 12,
   "metadata": {
    "scrolled": true
   },
   "outputs": [
    {
     "name": "stderr",
     "output_type": "stream",
     "text": [
      "ERROR:bokeh.core.validation.check:E-1001 (BAD_COLUMN_NAME): Glyph refers to nonexistent column name: color [renderer: GlyphRenderer(id='60279c47-ba50-4fdb-a29e-4cd3fcdf8913', ...)]\n"
     ]
    }
   ],
   "source": [
    "output_file(\"colormapped_bars.html\")\n",
    "\n",
    "months = [ 'Jan', 'Feb', 'Mar', 'Apr', 'May', 'Jun', 'Jul', 'Aug', 'Sep', 'Oct', 'Nov', 'Dec' ]\n",
    "failures = [51, 44, 40, 59, 43, 36, 74, 41, 38, 59, 35, 35]\n",
    "x_pos = [2] * 12\n",
    "y_pos = [2] * 12\n",
    "starts = [math.radians(i * 30) for i in range(12)]\n",
    "ends = [x + math.radians(30) for x in starts]\n",
    "max_fails = max(failures)\n",
    "radii = [x / max_fails * 1.8 for x in failures]\n",
    "colors = Category20[12]\n",
    "\n",
    "TOOLS = \"hover\"\n",
    "\n",
    "\n",
    "\n",
    "failure_source = ColumnDataSource(data=dict(months=months, failures=failures,\n",
    "                                            x=x_pos, y=y_pos, radius=radii,\n",
    "                                            start_angle=starts, end_angle=ends,\n",
    "                                            color=colors))\n",
    "\n",
    "\n",
    "\n",
    "p = figure(title=\"Bank Failures Per Month\", plot_width=400, plot_height=400, x_range=(0, 4), y_range=(0, 4), tools = TOOLS)\n",
    "\n",
    "hover = p.select(dict(type=HoverTool))\n",
    "hover.tooltips = [\n",
    "    (\"Month\", \"@months\"),\n",
    "    (\"Failures\", \"@failures\")\n",
    "]\n",
    "\n",
    "p.wedge(x='x', y='y', radius='radius', start_angle='start_angle', end_angle='end_angle',\n",
    "        color='color', source=failure_source)\n",
    "\n",
    "p.title.text_font_size = \"25px\"\n",
    "p.xgrid.grid_line_color = None\n",
    "p.ygrid.grid_line_color = None\n",
    "p.xaxis.visible = False\n",
    "p.yaxis.visible = False\n",
    "\n",
    "show(p)"
   ]
  },
  {
   "cell_type": "markdown",
   "metadata": {},
   "source": [
    "## Bank Failure By State"
   ]
  },
  {
   "cell_type": "markdown",
   "metadata": {},
   "source": [
    "I began creating a choropleth map, but I had a lot of trouble with bokeh. I decided to switch to folium, but I was not able to install on my laptop. I moved on to the next graph. However, there is a trend with states. I do think that it might be more meaningful to also investigate percentage of banks in the state that failed, rather than just raw numbers (of percentage or failed banks that occured in a given state). "
   ]
  },
  {
   "cell_type": "code",
   "execution_count": 9,
   "metadata": {},
   "outputs": [],
   "source": [
    "data = pd.value_counts(df['ST'].values, sort=False)\n",
    "data = data.reset_index()\n",
    "data.columns = ['ST', 'COUNTS']"
   ]
  },
  {
   "cell_type": "markdown",
   "metadata": {},
   "source": [
    "## Bank Failure By State Continued..."
   ]
  },
  {
   "cell_type": "markdown",
   "metadata": {},
   "source": [
    "Instead I created a bar chart of the number of bank failures per state. There is a clear pattern of failure rate by state. This could be due to population size, regulation, number of existing banks, etc. The mean number of failed banks in a state is 7. However, a few states were considerably higher. I would want to look at the affect of the recession on the state (maybe change in median income from 2000-2017), number of banks per 100,000 people, change in population from 2000-2017, and regulation in the state. "
   ]
  },
  {
   "cell_type": "code",
   "execution_count": 10,
   "metadata": {},
   "outputs": [
    {
     "name": "stderr",
     "output_type": "stream",
     "text": [
      "ERROR:bokeh.core.validation.check:E-1001 (BAD_COLUMN_NAME): Glyph refers to nonexistent column name: color [renderer: GlyphRenderer(id='60279c47-ba50-4fdb-a29e-4cd3fcdf8913', ...)]\n"
     ]
    },
    {
     "name": "stdout",
     "output_type": "stream",
     "text": [
      "11.0\n"
     ]
    }
   ],
   "source": [
    "data = pd.value_counts(df['ST'].values, sort=True).reset_index()[0:23]\n",
    "data.columns = ['State', 'Counts']\n",
    "\n",
    "color=Viridis256\n",
    "\n",
    "output_file(\"StateFailures.html\")\n",
    "p.xaxis.axis_label = 'State'\n",
    "p.yaxis.axis_label = 'Number of Bank Failures'\n",
    "\n",
    "p = figure(x_range=data['State'].values, plot_height=250, plot_width=400, title=\"Failures by State\",\n",
    "           tools=['pan'])\n",
    "\n",
    "\n",
    "p.vbar(x=data['State'], top=data['Counts'], width=0.9, color='color')\n",
    "\n",
    "hover = HoverTool(\n",
    "    tooltips=[\n",
    "        ( 'State','@x'),\n",
    "    ('Number of Failures','@$Counts')]\n",
    ")\n",
    "p.add_tools(hover)\n",
    "p.xaxis.major_label_orientation = 1.2\n",
    "\n",
    "\n",
    "show(p)\n",
    "\n",
    "print(data['Counts'].median())"
   ]
  }
 ],
 "metadata": {
  "kernelspec": {
   "display_name": "Python 3",
   "language": "python",
   "name": "python3"
  },
  "language_info": {
   "codemirror_mode": {
    "name": "ipython",
    "version": 3
   },
   "file_extension": ".py",
   "mimetype": "text/x-python",
   "name": "python",
   "nbconvert_exporter": "python",
   "pygments_lexer": "ipython3",
   "version": "3.6.5"
  }
 },
 "nbformat": 4,
 "nbformat_minor": 2
}
