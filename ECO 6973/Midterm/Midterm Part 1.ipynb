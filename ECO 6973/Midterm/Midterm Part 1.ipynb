{
 "cells": [
  {
   "cell_type": "markdown",
   "metadata": {},
   "source": [
    "# Midterm Part 1"
   ]
  },
  {
   "cell_type": "markdown",
   "metadata": {},
   "source": [
    "## By: Cambrey Sullivan\n",
    "\n"
   ]
  },
  {
   "cell_type": "markdown",
   "metadata": {},
   "source": [
    "### Problem 1"
   ]
  },
  {
   "cell_type": "code",
   "execution_count": 67,
   "metadata": {},
   "outputs": [],
   "source": [
    "import numpy as np\n",
    "import pandas as pd\n",
    "import os \n",
    "import ipywidgets as widgets\n",
    "cwd = os.getcwd()"
   ]
  },
  {
   "cell_type": "code",
   "execution_count": 72,
   "metadata": {
    "scrolled": true
   },
   "outputs": [
    {
     "name": "stdout",
     "output_type": "stream",
     "text": [
      "# of features of int 70\n",
      "# of features of str 77\n",
      "False\n"
     ]
    }
   ],
   "source": [
    "def features_of_class(klass):\n",
    "    features=dir(eval(klass))\n",
    "    return features\n",
    "\n",
    "test1='int'\n",
    "test2='str'\n",
    "features1=features_of_class(test1)\n",
    "print('# of features of int', len(features1))\n",
    "features2=features_of_class(test2)\n",
    "print('# of features of str', len(features2))\n",
    "print(features1==features2)"
   ]
  },
  {
   "cell_type": "markdown",
   "metadata": {},
   "source": [
    "### Problem 2"
   ]
  },
  {
   "cell_type": "code",
   "execution_count": 73,
   "metadata": {},
   "outputs": [
    {
     "name": "stdout",
     "output_type": "stream",
     "text": [
      "doc string fetching looks OK\n"
     ]
    }
   ],
   "source": [
    "def doc_string_for_feature(klass, feature):\n",
    "    klass_para=klass+'()'\n",
    "    feature_para=feature+'()'\n",
    "    return eval('klass').__getattribute__(str(feature)).__getattribute__('__doc__')\n",
    "\n",
    "if doc_string_for_feature('str','capitalize') == str.capitalize.__doc__:\n",
    "    print('doc string fetching looks OK')\n",
    "else:\n",
    "    print('doc string fetching may need work')\n",
    "    "
   ]
  },
  {
   "cell_type": "markdown",
   "metadata": {},
   "source": [
    "### Problem 3"
   ]
  },
  {
   "cell_type": "code",
   "execution_count": 82,
   "metadata": {},
   "outputs": [
    {
     "name": "stdout",
     "output_type": "stream",
     "text": [
      "fwtmdft checks out\n"
     ]
    }
   ],
   "source": [
    "def feature_with_the_most_documentation_for_type(klass):\n",
    "    features=features_of_class(klass)\n",
    "    doc_string=[]\n",
    "    \n",
    "    for feature in features:\n",
    "        doc_string.append(doc_string_for_feature(klass, feature))\n",
    "        return feature\n",
    "\n",
    "if feature_with_the_most_documentation_for_type('str') == '__add__':\n",
    "    print('fwtmdft checks out')\n",
    "else:\n",
    "    print('fwtmdft needs work')"
   ]
  }
 ],
 "metadata": {
  "kernelspec": {
   "display_name": "Python 3",
   "language": "python",
   "name": "python3"
  },
  "language_info": {
   "codemirror_mode": {
    "name": "ipython",
    "version": 3
   },
   "file_extension": ".py",
   "mimetype": "text/x-python",
   "name": "python",
   "nbconvert_exporter": "python",
   "pygments_lexer": "ipython3",
   "version": "3.6.5"
  }
 },
 "nbformat": 4,
 "nbformat_minor": 2
}
